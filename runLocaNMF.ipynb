{
 "cells": [
  {
   "cell_type": "markdown",
   "metadata": {},
   "source": [
    "# Import dependencies and set current folder"
   ]
  },
  {
   "cell_type": "code",
   "execution_count": null,
   "metadata": {},
   "outputs": [],
   "source": [
    "%load_ext autoreload\n",
    "%autoreload 2\n",
    "\n",
    "import numpy as np\n",
    "import h5py\n",
    "import numpy as np\n",
    "import scipy.io as sio\n",
    "import matplotlib.pyplot as plt\n",
    "import matplotlib.backends as back\n",
    "import LocaNMF\n",
    "import torch\n",
    "import time\n",
    "import hdf5storage\n",
    "from matplotlib.backends.backend_pdf import PdfPages\n",
    "cd /PATH/TO/DATA"
   ]
  },
  {
   "cell_type": "markdown",
   "metadata": {},
   "source": [
    "# Load & Format Data"
   ]
  },
  {
   "cell_type": "code",
   "execution_count": null,
   "metadata": {},
   "outputs": [],
   "source": [
    "sessList = {'A15307': '2_12',\n",
    "            'A15098': '1_28',\n",
    "            'A15309': '1_22',\n",
    "            'A15100': '1_20',\n",
    "            'A15312': '1_34',\n",
    "            'A15301': '2_28',\n",
    "            'A15352': '3_32'}\n",
    "tagList = {'A15307': 'SVD_data', \n",
    "           'A15098': 'SVD', \n",
    "           'A15309': 'SVD_data', \n",
    "           'A15100': 'SVD_data', \n",
    "           'A15312': 'SVD_data', \n",
    "           'A15301': 'SVD_data', \n",
    "           'A15352': 'SVD_data'}\n",
    "curAnimal = 'A15098'\n",
    "datafolder = 'data/'\n",
    "addTag = tagList[curAnimal]\n",
    "addTagFinal = 'locaNMF'\n",
    "\n",
    "matlabImport = h5py.File(datafolder + curAnimal + '_' + addTag + '.mat','r')\n",
    "allenImport = h5py.File(datafolder + 'allenROI.mat','r')\n",
    "dorsalMapScaledOrig = allenImport['ROI']\n",
    "\n",
    "Uc = matlabImport['coeff'][:]\n",
    "Vc = matlabImport['score'][:]\n",
    "valid = np.array(matlabImport['maskValid'][:],'int')\n",
    "brainmaskOrig = np.array(matlabImport['mask'], 'bool') # THIS for window boundaries\n",
    "\n",
    "brainmaskOrig = np.array(brainmaskOrig)\n",
    "dorsalMapScaledOrig = np.array(dorsalMapScaledOrig)\n",
    "valid = valid.squeeze()-1\n",
    "U = Uc.transpose((1,0))\n",
    "V = Vc.transpose((1,0))\n",
    "\n",
    "globalMask = brainmaskOrig.transpose((1,0))\n",
    "ROI = dorsalMapScaledOrig.transpose(1,0)\n",
    "tmp = np.zeros((ROI.shape[0]*ROI.shape[1], U.shape[1]))\n",
    "tmp[valid[:], :] = U\n",
    "U = np.reshape(tmp, (ROI.shape[1], ROI.shape[0], U.shape[1]))\n",
    "U = U.transpose((1,0,2))\n",
    "V = V.transpose((1,0))\n",
    "print(U.shape)\n",
    "print(V.shape)\n",
    "print(globalMask.shape)\n",
    "print(ROI.shape)\n",
    "q, r = np.linalg.qr(V.T)\n",
    "video_mats = (np.copy(U[globalMask]), r.T)#V)\n",
    "\n"
   ]
  },
  {
   "cell_type": "markdown",
   "metadata": {},
   "source": [
    "# Generate the region masks"
   ]
  },
  {
   "cell_type": "code",
   "execution_count": null,
   "metadata": {},
   "outputs": [],
   "source": [
    "pixelCount = np.histogram(ROI[:],range(1,1+int(np.max(ROI[:]))))\n",
    "print(pixelCount[0])\n",
    "#rank_range = (1, min(U.shape[2], 100), 1) #20\n",
    "rank_range = (1, min(min(pixelCount[0]), 100), 1) #20\n",
    "\n",
    "print(rank_range)\n",
    "\n",
    "#rank_range = (1, min(20, 100), 1) #20\n",
    "device='cuda'\n",
    "region_mats = LocaNMF.extract_region_metadata(globalMask,\n",
    "                                            ROI,\n",
    "                                            min_size=1)\n",
    "sigma=.002 # Previous\n",
    "region_mats[1][:] = 1 - np.exp(-1*np.power(region_mats[1],2) * sigma)\n",
    "curArea = 0\n",
    "A = np.zeros(globalMask.shape, dtype=np.float32)\n",
    "A[globalMask] = region_mats[1][curArea]\n",
    "\n",
    "\n",
    "plt.imshow(A)\n",
    "plt.show()"
   ]
  },
  {
   "cell_type": "markdown",
   "metadata": {},
   "source": [
    "# Save a plot of the masks"
   ]
  },
  {
   "cell_type": "code",
   "execution_count": null,
   "metadata": {},
   "outputs": [],
   "source": [
    "out_pdf = curAnimal+'_components.pdf'\n",
    "pdf = PdfPages(out_pdf)\n",
    "#figsize=(11.69,8.27)\n",
    "    #fig, axs = plt.subplots(1 + int(region_ranks[1+rdx] / 4), 4,\n",
    "fig, axs = plt.subplots(1+int(len(region_mats[1]) / 4), 4,\n",
    "                        figsize=(16,(int(len(region_mats[1]) / 4)) * 4))\n",
    "axs = axs.reshape((int(np.prod(axs.shape)),))\n",
    "\n",
    "#for i in range(len(region_mats[1])):\n",
    "for i, ax in enumerate(axs):\n",
    "    A = np.zeros(globalMask.shape, dtype=np.float32)    \n",
    "    if i < len(region_mats[1]):\n",
    "        A[globalMask] = region_mats[1][i]\n",
    "        ax.imshow(A)\n",
    "    else:\n",
    "        ax.set_axis_off()\n",
    "    #plt.imshow(A)\n",
    "plt.show()\n",
    "pdf.savefig(fig)\n",
    "pdf.close()"
   ]
  },
  {
   "cell_type": "markdown",
   "metadata": {},
   "source": [
    "# Put data in the right format / shape"
   ]
  },
  {
   "cell_type": "code",
   "execution_count": null,
   "metadata": {},
   "outputs": [],
   "source": [
    "region_metadata = LocaNMF.RegionMetadata(region_mats[0].shape[0],\n",
    "                                       region_mats[0].shape[1:],\n",
    "                                       device=device)\n",
    "region_metadata.set(torch.from_numpy(region_mats[0].astype(np.uint8)),\n",
    "                    torch.from_numpy(region_mats[1]),\n",
    "                    torch.from_numpy(region_mats[2].astype(np.int64)))\n",
    "torch.cuda.synchronize()\n",
    "print('v SVD Initialization')\n",
    "t0 = time.time()\n",
    "region_videos = LocaNMF.factor_region_videos(video_mats,\n",
    "                                           region_mats[0],\n",
    "                                           rank_range[1],\n",
    "                                           device=device)\n",
    "torch.cuda.synchronize()\n",
    "print(\"\\'-total : %f\" % (time.time() - t0))\n",
    "low_rank_video = LocaNMF.LowRankVideo(\n",
    "    (int(np.sum(globalMask)),) + video_mats[1].shape,\n",
    "    device=device\n",
    ")\n",
    "low_rank_video = LocaNMF.LowRankVideo(\n",
    "    (int(np.sum(globalMask)),) + video_mats[1].shape,\n",
    "    device=device\n",
    ")\n",
    "low_rank_video.set(torch.from_numpy(video_mats[0].T),\n",
    "                   torch.from_numpy(video_mats[1]))"
   ]
  },
  {
   "cell_type": "markdown",
   "metadata": {},
   "source": [
    "# Run locaNMF"
   ]
  },
  {
   "cell_type": "code",
   "execution_count": null,
   "metadata": {
    "scrolled": true
   },
   "outputs": [],
   "source": [
    "torch.cuda.synchronize()\n",
    "print('v Rank Line Search')\n",
    "t0 = time.time()\n",
    "# 50 loc .96 good for A15301 \n",
    "res = LocaNMF.rank_linesearch(low_rank_video,\n",
    "                              region_metadata,\n",
    "                              region_videos,\n",
    "                              maxiter_rank=150,\n",
    "                              maxiter_lambda=200,\n",
    "                              maxiter_hals=50,\n",
    "                              lambda_step=1.5,\n",
    "                              lambda_init=1e-3,\n",
    "                              loc_thresh=75,\n",
    "                              r2_thresh=.985,\n",
    "                              rank_range=rank_range,\n",
    "                              verbose=[True, False, False],\n",
    "                              sample_prop=(1,1),\n",
    "                              device=device)\n",
    "\n",
    "\n",
    "torch.cuda.synchronize()\n",
    "print(\"\\'-total : %f\" % (time.time() - t0))\n",
    "region_ranks = [0]\n",
    "region_idx = []\n",
    "for rdx in torch.unique(res.regions.data, sorted=True):\n",
    "    region_ranks.append(torch.sum(rdx == res.regions.data).item())\n",
    "    region_idx.append(rdx.item())\n",
    "    print((np.min(region_ranks),\n",
    "       np.mean(region_ranks),\n",
    "       np.max(region_ranks)))\n",
    "print((np.sum(np.array(region_ranks) == np.max(region_ranks)), len(region_metadata)))\n",
    "print((1 + int(np.amax(region_ranks) / 4)) * 4)"
   ]
  },
  {
   "cell_type": "markdown",
   "metadata": {},
   "source": [
    "# Save some locaNMF output plots"
   ]
  },
  {
   "cell_type": "code",
   "execution_count": null,
   "metadata": {
    "scrolled": true
   },
   "outputs": [],
   "source": [
    "dorsalMapScaledB = ROI\n",
    "brainmaskOrig = globalMask\n",
    "A = np.zeros(globalMask.shape, dtype=np.float32)\n",
    "#out_pdf = r+curAnimal+'Components.pdf'\n",
    "out_pdf = curAnimal+'_components5.pdf'\n",
    "pdf = PdfPages(out_pdf)\n",
    "#figsize=(11.69,8.27)\n",
    "for rdx, i in zip(region_idx, np.cumsum(region_ranks[:-1])):\n",
    "    #fig, axs = plt.subplots(1 + int(region_ranks[1+rdx] / 4), 4,\n",
    "    fig, axs = plt.subplots(1 + int(np.amax(region_ranks) / 4), 4,\n",
    "                            #figsize=(16,(1 + int(region_ranks[1+rdx] / 4)) * 4))\n",
    "                            figsize=(16,(1 + int(np.amax(region_ranks) / 4)) * 4))\n",
    "                            #\n",
    "                            #figsize=(16,16))\n",
    "    axs = axs.reshape((int(np.prod(axs.shape)),))\n",
    "    A[globalMask] = 2*(res.distance.data[i].cpu()==0) + (res.distance.data[i].cpu()>0)\n",
    "    B = dorsalMapScaledB\n",
    "    B = B+(np.amax(dorsalMapScaledB)+1)*A\n",
    "    axs[0].imshow(B)\n",
    "    axs[0].set_title(\"Region: {}\".format(rdx+1))\n",
    "    for j, ax in enumerate(axs[1:]):\n",
    "        if i + j < len(res) and res.regions.data[i+j].item() == rdx:\n",
    "            A[globalMask] = res.spatial.data[i+j].cpu()\n",
    "            ax.set_title(\"Component {}\".format(i+j))\n",
    "            ax.imshow(A)\n",
    "        else:\n",
    "            A[globalMask] = 0\n",
    "            ax.set_axis_off()\n",
    "        #ax.imshow(A)\n",
    "        \n",
    "    plt.show()\n",
    "    pdf.savefig(fig)\n",
    "pdf.close()"
   ]
  },
  {
   "cell_type": "markdown",
   "metadata": {},
   "source": [
    "# Prepare data for saving as a new .mat file"
   ]
  },
  {
   "cell_type": "code",
   "execution_count": null,
   "metadata": {},
   "outputs": [],
   "source": [
    "dorsalMapScaledB = ROI\n",
    "A = np.zeros(globalMask.shape, dtype=np.float32)\n",
    "temporal = res.temporal\n",
    "curRange = temporal.shape[0]\n",
    "compData = np.zeros((V.T.shape[0], curRange))\n",
    "C = np.matmul(q,res.temporal.data.cpu().numpy().T)\n",
    "print(C.shape)\n",
    "for i in range(curRange):\n",
    "    A[globalMask] = 2*(res.distance.data[i].cpu()==0) + (res.distance.data[i].cpu()>0)\n",
    "    B = dorsalMapScaledB\n",
    "    B = B+(np.amax(dorsalMapScaledB)+1)*A\n",
    "    y = temporal.data[i,:].cpu().numpy()*V.T\n",
    "    y = np.sum(y,axis=1)\n",
    "    compData[:,i] = y\n",
    "print(compData.shape)\n"
   ]
  },
  {
   "cell_type": "markdown",
   "metadata": {},
   "source": [
    "# Save"
   ]
  },
  {
   "cell_type": "code",
   "execution_count": null,
   "metadata": {},
   "outputs": [],
   "source": [
    "import scipy.io as sio\n",
    "a_dict = {'compData': compData, 'compXY': res.spatial.data.cpu().numpy(), 'compD': res.distance.data.cpu().numpy(), 'compT': res.temporal.data.cpu().numpy(), 'C': C, 'region_ranks': region_ranks, 'region_idx': region_idx}\n",
    "fName = datafolder + curAnimal + '_' + addTag + '_' + addTagFinal + '_output5.mat'\n",
    "sio.savemat(fName, {'a_dict': a_dict})"
   ]
  }
 ],
 "metadata": {
  "kernelspec": {
   "display_name": "Python 3",
   "language": "python",
   "name": "python3"
  },
  "language_info": {
   "codemirror_mode": {
    "name": "ipython",
    "version": 3
   },
   "file_extension": ".py",
   "mimetype": "text/x-python",
   "name": "python",
   "nbconvert_exporter": "python",
   "pygments_lexer": "ipython3",
   "version": "3.7.3"
  }
 },
 "nbformat": 4,
 "nbformat_minor": 2
}
